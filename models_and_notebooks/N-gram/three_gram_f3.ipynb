{
 "cells": [
  {
   "cell_type": "code",
   "execution_count": null,
   "id": "d192adf3",
   "metadata": {
    "lines_to_next_cell": 1
   },
   "outputs": [],
   "source": [
    "import pickle\n",
    "import random\n",
    "import os"
   ]
  },
  {
   "cell_type": "code",
   "execution_count": null,
   "id": "e5aa1ba0",
   "metadata": {
    "lines_to_next_cell": 1
   },
   "outputs": [],
   "source": [
    "def generate_cookie(model_path, nb=8):\n",
    "    def load_model(model_path):\n",
    "        with open(model_path, 'rb') as model_file:\n",
    "            model = pickle.load(model_file)\n",
    "            n_grams = model.n_grams\n",
    "            word_counts = model.word_counts\n",
    "            sentences_column = model.sentences_column\n",
    "        return n_grams, word_counts, sentences_column\n",
    "    \n",
    "    n_grams, word_counts, sentences_column = load_model(model_path)\n",
    "\n",
    "    if n_grams is None:\n",
    "        raise Exception(\"Model not loaded yet. Need to load the model first\")\n",
    "    \n",
    "    words = []\n",
    "    # Choose a random starting sentence\n",
    "    start_sentence = random.choice(sentences_column.dropna())\n",
    "    start_word = start_sentence.split()[0]\n",
    "    next_words = (start_word,)  # Tuple with single word\n",
    "    words.append(start_word)\n",
    "    # Generate words until reaching the length or an ending punctuation\n",
    "    while len(words) < nb:\n",
    "        if next_words in n_grams:\n",
    "            # Choose the next word based on the frequency\n",
    "            next_word = max(n_grams[next_words], key=lambda x: word_counts[x])\n",
    "            next_words = next_words[1:] + (next_word,)\n",
    "            words.append(next_word)\n",
    "            # Check if the next word is an ending punctuation\n",
    "            if next_word[-1] in ['.', '!', '?']:\n",
    "                break\n",
    "        else:\n",
    "            # If the current n-gram has no following words, choose a n-gram randomly\n",
    "            next_words = random.choice(list(n_grams.keys()))\n",
    "            words.extend(list(next_words))\n",
    "\n",
    "    # Capitalize the first word\n",
    "    words[0] = words[0].capitalize()\n",
    "    # Convert all words except the first one to lowercase\n",
    "    words[1:] = [word.lower() for word in words[1:]]\n",
    "    # Add a period at the end of the generated sequence if it does not have it\n",
    "    if words[-1][-1] not in ['.', '!', '?']:\n",
    "        words[-1] += '.'\n",
    "    # Replace periods in the middle of the sentence with commas\n",
    "    for i in range(1, len(words) - 1):\n",
    "        if words[i] == '.':\n",
    "            words[i] = ','\n",
    "\n",
    "    return \" \".join(words)"
   ]
  },
  {
   "cell_type": "code",
   "execution_count": null,
   "id": "5ecfa086",
   "metadata": {},
   "outputs": [],
   "source": [
    "print(generate_cookie(model_path=os.path.join('..', 'pretrained_models', 'n-gram.pkl')))"
   ]
  }
 ],
 "metadata": {
  "jupytext": {
   "cell_metadata_filter": "-all",
   "main_language": "python",
   "notebook_metadata_filter": "-all"
  },
  "language_info": {
   "name": "python"
  }
 },
 "nbformat": 4,
 "nbformat_minor": 5
}
